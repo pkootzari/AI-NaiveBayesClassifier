{
 "metadata": {
  "language_info": {
   "codemirror_mode": {
    "name": "ipython",
    "version": 3
   },
   "file_extension": ".py",
   "mimetype": "text/x-python",
   "name": "python",
   "nbconvert_exporter": "python",
   "pygments_lexer": "ipython3",
   "version": "3.7.6-final"
  },
  "orig_nbformat": 2,
  "kernelspec": {
   "name": "python3",
   "display_name": "Python 3.7.6 64-bit (conda)",
   "metadata": {
    "interpreter": {
     "hash": "6e6f7603a0f222095c70729fb7e573f6543910ef3182ccf7976686bfcf8a95e3"
    }
   }
  }
 },
 "nbformat": 4,
 "nbformat_minor": 2,
 "cells": [
  {
   "source": [
    "# Naive Bayes Classifier \n",
    "In this project we want ot apply the Naive Bayes Classifier on a dataset that is from comments of a online store and after training our model with the train dataset we are going to predict the recommendation class of each comment in the test dataset. Here we are going to use the bag of words method that is both simple and produces results with good accuracy."
   ],
   "cell_type": "markdown",
   "metadata": {}
  },
  {
   "source": [
    "## Importing needed libraries\n",
    "As for most of the AI projects numpy and pandas should be importet. Here we are imporing hazm library for preprocessing and normalazing words in comments"
   ],
   "cell_type": "markdown",
   "metadata": {}
  },
  {
   "cell_type": "code",
   "execution_count": 1,
   "metadata": {},
   "outputs": [],
   "source": [
    "from __future__ import unicode_literals\n",
    "import pandas as pd\n",
    "import numpy as np\n",
    "from hazm import *\n",
    "from math import log2"
   ]
  },
  {
   "source": [
    "## Tokenizing comments and titles for train dataset\n",
    "Here we tokenize the words of sentences in both comments and titles and then we append these two to make a one single comment without any title for the sake of simplicity"
   ],
   "cell_type": "markdown",
   "metadata": {}
  },
  {
   "cell_type": "code",
   "execution_count": 2,
   "metadata": {},
   "outputs": [
    {
     "output_type": "stream",
     "name": "stdout",
     "text": [
      "Wall time: 968 ms\n"
     ]
    },
    {
     "output_type": "execute_result",
     "data": {
      "text/plain": [
       "                                                comment        recommend\n",
       "0     [با, وجود, سابقه, خوبی, که, از, برند, ایرانی, ...  not_recommended\n",
       "1                            [بسیار, عالی, بسیار, عالی]      recommended\n",
       "2     [من, الان, ۳, هفته, هست, استفاده, میکنم\\r, برا...  not_recommended\n",
       "3     [عمرش, کمه, تا, یه, هفته, بیشتر, نمیشه, استفاد...  not_recommended\n",
       "4     [فکر, کنین, کلمن, بخرین, با, ذوق, ., کلی, پولش...  not_recommended\n",
       "...                                                 ...              ...\n",
       "5995  [خیلی, جنس, پارچش, نرم, ولطیفه, خیلیم, جنسش, خ...      recommended\n",
       "5996  [سلام, ., واقعا, فکر, نمی, کردم, به, این, راحت...      recommended\n",
       "5997  [من, از, دیجی, کالا, خریدم, خیلی, زود, دستم, ر...      recommended\n",
       "5998  [یا, شرکت, نمیدونسته, چای, ماچا, امپریال, چیه,...  not_recommended\n",
       "5999  [این, هدست, را, چند, هفته, قبل, از, سایت, دیجی...      recommended\n",
       "\n",
       "[6000 rows x 2 columns]"
      ],
      "text/html": "<div>\n<style scoped>\n    .dataframe tbody tr th:only-of-type {\n        vertical-align: middle;\n    }\n\n    .dataframe tbody tr th {\n        vertical-align: top;\n    }\n\n    .dataframe thead th {\n        text-align: right;\n    }\n</style>\n<table border=\"1\" class=\"dataframe\">\n  <thead>\n    <tr style=\"text-align: right;\">\n      <th></th>\n      <th>comment</th>\n      <th>recommend</th>\n    </tr>\n  </thead>\n  <tbody>\n    <tr>\n      <th>0</th>\n      <td>[با, وجود, سابقه, خوبی, که, از, برند, ایرانی, ...</td>\n      <td>not_recommended</td>\n    </tr>\n    <tr>\n      <th>1</th>\n      <td>[بسیار, عالی, بسیار, عالی]</td>\n      <td>recommended</td>\n    </tr>\n    <tr>\n      <th>2</th>\n      <td>[من, الان, ۳, هفته, هست, استفاده, میکنم\\r, برا...</td>\n      <td>not_recommended</td>\n    </tr>\n    <tr>\n      <th>3</th>\n      <td>[عمرش, کمه, تا, یه, هفته, بیشتر, نمیشه, استفاد...</td>\n      <td>not_recommended</td>\n    </tr>\n    <tr>\n      <th>4</th>\n      <td>[فکر, کنین, کلمن, بخرین, با, ذوق, ., کلی, پولش...</td>\n      <td>not_recommended</td>\n    </tr>\n    <tr>\n      <th>...</th>\n      <td>...</td>\n      <td>...</td>\n    </tr>\n    <tr>\n      <th>5995</th>\n      <td>[خیلی, جنس, پارچش, نرم, ولطیفه, خیلیم, جنسش, خ...</td>\n      <td>recommended</td>\n    </tr>\n    <tr>\n      <th>5996</th>\n      <td>[سلام, ., واقعا, فکر, نمی, کردم, به, این, راحت...</td>\n      <td>recommended</td>\n    </tr>\n    <tr>\n      <th>5997</th>\n      <td>[من, از, دیجی, کالا, خریدم, خیلی, زود, دستم, ر...</td>\n      <td>recommended</td>\n    </tr>\n    <tr>\n      <th>5998</th>\n      <td>[یا, شرکت, نمیدونسته, چای, ماچا, امپریال, چیه,...</td>\n      <td>not_recommended</td>\n    </tr>\n    <tr>\n      <th>5999</th>\n      <td>[این, هدست, را, چند, هفته, قبل, از, سایت, دیجی...</td>\n      <td>recommended</td>\n    </tr>\n  </tbody>\n</table>\n<p>6000 rows × 2 columns</p>\n</div>"
     },
     "metadata": {},
     "execution_count": 2
    }
   ],
   "source": [
    "%%time\n",
    "train_table = pd.read_csv(\"comment_train.csv\", encoding=\"utf-8\")\n",
    "train_table['title'] = train_table.apply(lambda row: word_tokenize(row['title']), axis=1)\n",
    "train_table['comment'] = train_table.apply(lambda row: word_tokenize(row['comment']) + row['title'], axis=1)\n",
    "del train_table['title']\n",
    "train_table"
   ]
  },
  {
   "source": [
    "## Tokenizing comments and titles for train dataset\n",
    "And we do the exact same process for the test dataset"
   ],
   "cell_type": "markdown",
   "metadata": {}
  },
  {
   "cell_type": "code",
   "execution_count": 3,
   "metadata": {},
   "outputs": [
    {
     "output_type": "stream",
     "name": "stdout",
     "text": [
      "Wall time: 119 ms\n"
     ]
    },
    {
     "output_type": "execute_result",
     "data": {
      "text/plain": [
       "                                               comment        recommend\n",
       "0    [تازه, خریدم, یه, مدت, کار, بکنه, مشخص, میشه, ...      recommended\n",
       "1    [با, این, قیمت, گزینه, های, بهتری, هم, میشه, گ...  not_recommended\n",
       "2    [خیلی, عالیه, ،, فقط, کاش, از, اون, سمتش, میشد...      recommended\n",
       "3    [من, این, فیس, براس, چند, روز, یپش, به, دستم, ...  not_recommended\n",
       "4    [بنده, یه, هارد, اکسترنال, دارم, که, کابل, فاب...      recommended\n",
       "..                                                 ...              ...\n",
       "795  [طراحیش, قشنگه, ولی, داخل, عکس, خیلی, بزرگتر, ...  not_recommended\n",
       "796  [این, لامپ, چینی, هستتش, کیفیت, پایین, ., نور,...  not_recommended\n",
       "797  [در, کل, از, این, خریدم, راضی, هستم, و, به, تن...      recommended\n",
       "798  [تازع, نصبش, کردم-سرعت, انتقال, و, نصب, بازی, ...      recommended\n",
       "799  [نسبت, به, باطری, اصلی, فقط, 60, %, کار, میکنه...  not_recommended\n",
       "\n",
       "[800 rows x 2 columns]"
      ],
      "text/html": "<div>\n<style scoped>\n    .dataframe tbody tr th:only-of-type {\n        vertical-align: middle;\n    }\n\n    .dataframe tbody tr th {\n        vertical-align: top;\n    }\n\n    .dataframe thead th {\n        text-align: right;\n    }\n</style>\n<table border=\"1\" class=\"dataframe\">\n  <thead>\n    <tr style=\"text-align: right;\">\n      <th></th>\n      <th>comment</th>\n      <th>recommend</th>\n    </tr>\n  </thead>\n  <tbody>\n    <tr>\n      <th>0</th>\n      <td>[تازه, خریدم, یه, مدت, کار, بکنه, مشخص, میشه, ...</td>\n      <td>recommended</td>\n    </tr>\n    <tr>\n      <th>1</th>\n      <td>[با, این, قیمت, گزینه, های, بهتری, هم, میشه, گ...</td>\n      <td>not_recommended</td>\n    </tr>\n    <tr>\n      <th>2</th>\n      <td>[خیلی, عالیه, ،, فقط, کاش, از, اون, سمتش, میشد...</td>\n      <td>recommended</td>\n    </tr>\n    <tr>\n      <th>3</th>\n      <td>[من, این, فیس, براس, چند, روز, یپش, به, دستم, ...</td>\n      <td>not_recommended</td>\n    </tr>\n    <tr>\n      <th>4</th>\n      <td>[بنده, یه, هارد, اکسترنال, دارم, که, کابل, فاب...</td>\n      <td>recommended</td>\n    </tr>\n    <tr>\n      <th>...</th>\n      <td>...</td>\n      <td>...</td>\n    </tr>\n    <tr>\n      <th>795</th>\n      <td>[طراحیش, قشنگه, ولی, داخل, عکس, خیلی, بزرگتر, ...</td>\n      <td>not_recommended</td>\n    </tr>\n    <tr>\n      <th>796</th>\n      <td>[این, لامپ, چینی, هستتش, کیفیت, پایین, ., نور,...</td>\n      <td>not_recommended</td>\n    </tr>\n    <tr>\n      <th>797</th>\n      <td>[در, کل, از, این, خریدم, راضی, هستم, و, به, تن...</td>\n      <td>recommended</td>\n    </tr>\n    <tr>\n      <th>798</th>\n      <td>[تازع, نصبش, کردم-سرعت, انتقال, و, نصب, بازی, ...</td>\n      <td>recommended</td>\n    </tr>\n    <tr>\n      <th>799</th>\n      <td>[نسبت, به, باطری, اصلی, فقط, 60, %, کار, میکنه...</td>\n      <td>not_recommended</td>\n    </tr>\n  </tbody>\n</table>\n<p>800 rows × 2 columns</p>\n</div>"
     },
     "metadata": {},
     "execution_count": 3
    }
   ],
   "source": [
    "%%time\n",
    "test_table = pd.read_csv(\"comment_test.csv\", encoding=\"utf-8\")\n",
    "test_table['title'] = test_table.apply(lambda row: word_tokenize(row['title']), axis=1)\n",
    "test_table['comment'] = test_table.apply(lambda row: word_tokenize(row['comment']) + row['title'], axis=1)\n",
    "del test_table['title']\n",
    "test_table"
   ]
  },
  {
   "source": [
    "## Preprocessing the datasets \n",
    "We should do some preprocessing for both test and train dataset. This preprocessing consist of eliminating stop words which is done in a few blocks below and stemming and lemmatization the word.\n",
    "- Stemming: This process convert each word to its simplest form with no plural signs and any other added charecter.\n",
    "- Lemmatization: This process convert each word mostly the verbs into its root.\n",
    " \n",
    "These two processes help the similar words that mean the same fall into same category rather than falling into different categories that leads to have more categories and less accurate categorized dictionary.\n",
    "In order to be able to see the effect of preprocssing in results we keep an instance of our data without preprecessing. "
   ],
   "cell_type": "markdown",
   "metadata": {}
  },
  {
   "cell_type": "code",
   "execution_count": 4,
   "metadata": {},
   "outputs": [
    {
     "output_type": "stream",
     "name": "stdout",
     "text": [
      "Wall time: 1.3 s\n"
     ]
    },
    {
     "output_type": "execute_result",
     "data": {
      "text/plain": [
       "                                                comment        recommend\n",
       "0     [با, وجود, سابقه, خوب, که, از, برد#بر, ایران, ...  not_recommended\n",
       "1                              [بسیار, عال, بسیار, عال]      recommended\n",
       "2     [من, ال, ۳, هفته, هس, استفاده, میکنم\\r, برا, ک...  not_recommended\n",
       "3     [عمر, کمه, تا, یه, هفته, ب, نمیشه, استفاده, کر...  not_recommended\n",
       "4     [فکر, کنین, کلمن, بخرین, با, ذوق, ., کل, پولشو...  not_recommended\n",
       "...                                                 ...              ...\n",
       "5995  [خیل, جنس, پارچ, نر, ولطیفه, خیل, جنس, خوبه, ا...      recommended\n",
       "5996  [سلا, ., واقعا, فکر, نم, کرد#کن, به, این, راحت...      recommended\n",
       "5997  [من, از, دیج, کالا, خرید, خیل, زود, دس, رسید, ...      recommended\n",
       "5998  [یا, شرک, نمیدونسته, چا, ماچا, امپریال, چیه, ی...  not_recommended\n",
       "5999  [این, هدس, را, چند, هفته, قبل, از, سا, دیج, کا...      recommended\n",
       "\n",
       "[6000 rows x 2 columns]"
      ],
      "text/html": "<div>\n<style scoped>\n    .dataframe tbody tr th:only-of-type {\n        vertical-align: middle;\n    }\n\n    .dataframe tbody tr th {\n        vertical-align: top;\n    }\n\n    .dataframe thead th {\n        text-align: right;\n    }\n</style>\n<table border=\"1\" class=\"dataframe\">\n  <thead>\n    <tr style=\"text-align: right;\">\n      <th></th>\n      <th>comment</th>\n      <th>recommend</th>\n    </tr>\n  </thead>\n  <tbody>\n    <tr>\n      <th>0</th>\n      <td>[با, وجود, سابقه, خوب, که, از, برد#بر, ایران, ...</td>\n      <td>not_recommended</td>\n    </tr>\n    <tr>\n      <th>1</th>\n      <td>[بسیار, عال, بسیار, عال]</td>\n      <td>recommended</td>\n    </tr>\n    <tr>\n      <th>2</th>\n      <td>[من, ال, ۳, هفته, هس, استفاده, میکنم\\r, برا, ک...</td>\n      <td>not_recommended</td>\n    </tr>\n    <tr>\n      <th>3</th>\n      <td>[عمر, کمه, تا, یه, هفته, ب, نمیشه, استفاده, کر...</td>\n      <td>not_recommended</td>\n    </tr>\n    <tr>\n      <th>4</th>\n      <td>[فکر, کنین, کلمن, بخرین, با, ذوق, ., کل, پولشو...</td>\n      <td>not_recommended</td>\n    </tr>\n    <tr>\n      <th>...</th>\n      <td>...</td>\n      <td>...</td>\n    </tr>\n    <tr>\n      <th>5995</th>\n      <td>[خیل, جنس, پارچ, نر, ولطیفه, خیل, جنس, خوبه, ا...</td>\n      <td>recommended</td>\n    </tr>\n    <tr>\n      <th>5996</th>\n      <td>[سلا, ., واقعا, فکر, نم, کرد#کن, به, این, راحت...</td>\n      <td>recommended</td>\n    </tr>\n    <tr>\n      <th>5997</th>\n      <td>[من, از, دیج, کالا, خرید, خیل, زود, دس, رسید, ...</td>\n      <td>recommended</td>\n    </tr>\n    <tr>\n      <th>5998</th>\n      <td>[یا, شرک, نمیدونسته, چا, ماچا, امپریال, چیه, ی...</td>\n      <td>not_recommended</td>\n    </tr>\n    <tr>\n      <th>5999</th>\n      <td>[این, هدس, را, چند, هفته, قبل, از, سا, دیج, کا...</td>\n      <td>recommended</td>\n    </tr>\n  </tbody>\n</table>\n<p>6000 rows × 2 columns</p>\n</div>"
     },
     "metadata": {},
     "execution_count": 4
    }
   ],
   "source": [
    "%%time\n",
    "train_table_nopreprocessing = train_table\n",
    "lemmatizer = Lemmatizer()\n",
    "stemmer = Stemmer()\n",
    "train_table['comment'] = train_table.apply(lambda row: [lemmatizer.lemmatize(stemmer.stem(word)) for word in row['comment'] ], axis=1)\n",
    "train_table"
   ]
  },
  {
   "cell_type": "code",
   "execution_count": 5,
   "metadata": {},
   "outputs": [
    {
     "output_type": "stream",
     "name": "stdout",
     "text": [
      "Wall time: 438 ms\n"
     ]
    },
    {
     "output_type": "execute_result",
     "data": {
      "text/plain": [
       "                                               comment        recommend\n",
       "0    [تازه, خرید, یه, مد, کار, بکنه, مشخص, میشه, کی...      recommended\n",
       "1    [با, این, قیم, گزینه, , بهتر, ه, میشه, گرف, .,...  not_recommended\n",
       "2    [خیل, عالیه, ،, فقط, کا, از, اون, سمت, میشد, ب...      recommended\n",
       "3    [من, این, فیس, براس, چند, روز, یپ, به, دس, رسی...  not_recommended\n",
       "4    [بنده, یه, هارد, اکسترنال, دار, که, کابل, فابر...      recommended\n",
       "..                                                 ...              ...\n",
       "795  [طراح, قشنگه, ول, داخل, عکس, خیل, بزرگ, ب, چ, ...  not_recommended\n",
       "796  [این, لامپ, چین, هستت, کیف, پایین, ., نور, ک, ...  not_recommended\n",
       "797  [در, کل, از, این, خرید, راض, هس, و, به, تناسب,...      recommended\n",
       "798  [تازع, نصب, کردم-سرع, انتقال, و, نصب, باز, رو,...      recommended\n",
       "799  [نسب, به, باطر, اصل, فقط, 60, %, کار, میکنه\\r,...  not_recommended\n",
       "\n",
       "[800 rows x 2 columns]"
      ],
      "text/html": "<div>\n<style scoped>\n    .dataframe tbody tr th:only-of-type {\n        vertical-align: middle;\n    }\n\n    .dataframe tbody tr th {\n        vertical-align: top;\n    }\n\n    .dataframe thead th {\n        text-align: right;\n    }\n</style>\n<table border=\"1\" class=\"dataframe\">\n  <thead>\n    <tr style=\"text-align: right;\">\n      <th></th>\n      <th>comment</th>\n      <th>recommend</th>\n    </tr>\n  </thead>\n  <tbody>\n    <tr>\n      <th>0</th>\n      <td>[تازه, خرید, یه, مد, کار, بکنه, مشخص, میشه, کی...</td>\n      <td>recommended</td>\n    </tr>\n    <tr>\n      <th>1</th>\n      <td>[با, این, قیم, گزینه, , بهتر, ه, میشه, گرف, .,...</td>\n      <td>not_recommended</td>\n    </tr>\n    <tr>\n      <th>2</th>\n      <td>[خیل, عالیه, ،, فقط, کا, از, اون, سمت, میشد, ب...</td>\n      <td>recommended</td>\n    </tr>\n    <tr>\n      <th>3</th>\n      <td>[من, این, فیس, براس, چند, روز, یپ, به, دس, رسی...</td>\n      <td>not_recommended</td>\n    </tr>\n    <tr>\n      <th>4</th>\n      <td>[بنده, یه, هارد, اکسترنال, دار, که, کابل, فابر...</td>\n      <td>recommended</td>\n    </tr>\n    <tr>\n      <th>...</th>\n      <td>...</td>\n      <td>...</td>\n    </tr>\n    <tr>\n      <th>795</th>\n      <td>[طراح, قشنگه, ول, داخل, عکس, خیل, بزرگ, ب, چ, ...</td>\n      <td>not_recommended</td>\n    </tr>\n    <tr>\n      <th>796</th>\n      <td>[این, لامپ, چین, هستت, کیف, پایین, ., نور, ک, ...</td>\n      <td>not_recommended</td>\n    </tr>\n    <tr>\n      <th>797</th>\n      <td>[در, کل, از, این, خرید, راض, هس, و, به, تناسب,...</td>\n      <td>recommended</td>\n    </tr>\n    <tr>\n      <th>798</th>\n      <td>[تازع, نصب, کردم-سرع, انتقال, و, نصب, باز, رو,...</td>\n      <td>recommended</td>\n    </tr>\n    <tr>\n      <th>799</th>\n      <td>[نسب, به, باطر, اصل, فقط, 60, %, کار, میکنه\\r,...</td>\n      <td>not_recommended</td>\n    </tr>\n  </tbody>\n</table>\n<p>800 rows × 2 columns</p>\n</div>"
     },
     "metadata": {},
     "execution_count": 5
    }
   ],
   "source": [
    "%%time\n",
    "test_table_nopreprocessing = test_table\n",
    "lemmatizer = Lemmatizer()\n",
    "stemmer = Stemmer()\n",
    "test_table['comment'] = test_table.apply(lambda row: [lemmatizer.lemmatize(stemmer.stem(word)) for word in row['comment'] ], axis=1)\n",
    "test_table"
   ]
  },
  {
   "source": [
    "## Making a dictionary out of all the words in the comments \n",
    "Here we do two things first getting rid of stop words that don't have anything to do with the comment class and also we calculate how many times each word showed up in a recommended class comments and not recommended class comments.\n",
    "During this process the words that repeated more than once in a single comment won't count more that once and wiil be ignored.\n",
    "In order to see the results for data with no preprocessing we keep a dictionary of our raw data."
   ],
   "cell_type": "markdown",
   "metadata": {}
  },
  {
   "cell_type": "code",
   "execution_count": 6,
   "metadata": {
    "tags": []
   },
   "outputs": [
    {
     "output_type": "stream",
     "name": "stdout",
     "text": [
      "Wall time: 9.7 s\n"
     ]
    },
    {
     "output_type": "execute_result",
     "data": {
      "text/plain": [
       "            word                                            details\n",
       "خیل          خیل  {'recommend': 1105, 'not recommend': 805, 'tot...\n",
       "خرید        خرید  {'recommend': 906, 'not recommend': 870, 'tota...\n",
       "کیف          کیف  {'recommend': 658, 'not recommend': 917, 'tota...\n",
       "کرد#کن    کرد#کن  {'recommend': 767, 'not recommend': 800, 'tota...\n",
       "برا          برا  {'recommend': 757, 'not recommend': 553, 'tota...\n",
       "...          ...                                                ...\n",
       "امپریال  امپریال   {'recommend': 0, 'not recommend': 1, 'total': 1}\n",
       "ضدسرطان  ضدسرطان   {'recommend': 0, 'not recommend': 1, 'total': 1}\n",
       "اکسید      اکسید   {'recommend': 0, 'not recommend': 1, 'total': 1}\n",
       "مونوه      مونوه   {'recommend': 1, 'not recommend': 0, 'total': 1}\n",
       "کاربد      کاربد   {'recommend': 1, 'not recommend': 0, 'total': 1}\n",
       "\n",
       "[13005 rows x 2 columns]"
      ],
      "text/html": "<div>\n<style scoped>\n    .dataframe tbody tr th:only-of-type {\n        vertical-align: middle;\n    }\n\n    .dataframe tbody tr th {\n        vertical-align: top;\n    }\n\n    .dataframe thead th {\n        text-align: right;\n    }\n</style>\n<table border=\"1\" class=\"dataframe\">\n  <thead>\n    <tr style=\"text-align: right;\">\n      <th></th>\n      <th>word</th>\n      <th>details</th>\n    </tr>\n  </thead>\n  <tbody>\n    <tr>\n      <th>خیل</th>\n      <td>خیل</td>\n      <td>{'recommend': 1105, 'not recommend': 805, 'tot...</td>\n    </tr>\n    <tr>\n      <th>خرید</th>\n      <td>خرید</td>\n      <td>{'recommend': 906, 'not recommend': 870, 'tota...</td>\n    </tr>\n    <tr>\n      <th>کیف</th>\n      <td>کیف</td>\n      <td>{'recommend': 658, 'not recommend': 917, 'tota...</td>\n    </tr>\n    <tr>\n      <th>کرد#کن</th>\n      <td>کرد#کن</td>\n      <td>{'recommend': 767, 'not recommend': 800, 'tota...</td>\n    </tr>\n    <tr>\n      <th>برا</th>\n      <td>برا</td>\n      <td>{'recommend': 757, 'not recommend': 553, 'tota...</td>\n    </tr>\n    <tr>\n      <th>...</th>\n      <td>...</td>\n      <td>...</td>\n    </tr>\n    <tr>\n      <th>امپریال</th>\n      <td>امپریال</td>\n      <td>{'recommend': 0, 'not recommend': 1, 'total': 1}</td>\n    </tr>\n    <tr>\n      <th>ضدسرطان</th>\n      <td>ضدسرطان</td>\n      <td>{'recommend': 0, 'not recommend': 1, 'total': 1}</td>\n    </tr>\n    <tr>\n      <th>اکسید</th>\n      <td>اکسید</td>\n      <td>{'recommend': 0, 'not recommend': 1, 'total': 1}</td>\n    </tr>\n    <tr>\n      <th>مونوه</th>\n      <td>مونوه</td>\n      <td>{'recommend': 1, 'not recommend': 0, 'total': 1}</td>\n    </tr>\n    <tr>\n      <th>کاربد</th>\n      <td>کاربد</td>\n      <td>{'recommend': 1, 'not recommend': 0, 'total': 1}</td>\n    </tr>\n  </tbody>\n</table>\n<p>13005 rows × 2 columns</p>\n</div>"
     },
     "metadata": {},
     "execution_count": 6
    }
   ],
   "source": [
    "%%time\n",
    "comment_words = {}\n",
    "comment_words_nopreprocessing = {}\n",
    "def get_words(row, name, dic, eliminate_stopwords = True):\n",
    "    seen_words = set([])\n",
    "    if eliminate_stopwords:\n",
    "        # stop_words = set([\"و\", \"در\", \"از\", \"با\", \"که\", \".\", \"به\", \"این\", \"اون\", \"را\", \"تا\", \"\\n\", \"\\r\", \"\"])\n",
    "        stop_words = set(stopwords_list())\n",
    "    else:\n",
    "        stop_words = set([])\n",
    "    for word in row[name]:\n",
    "        if len(word) <= 1 or word in stop_words or word in seen_words:\n",
    "            continue\n",
    "        seen_words.add(word)\n",
    "        if not word in dic:\n",
    "            dic[word] = {'recommend': 0, 'not recommend': 0, 'total': 0}\n",
    "        dic[word]['total'] += 1\n",
    "        if row['recommend'] == 'recommended':\n",
    "            dic[word]['recommend'] += 1\n",
    "        else:\n",
    "            dic[word]['not recommend'] += 1\n",
    "    return\n",
    "\n",
    "train_table_nopreprocessing.apply(lambda row: get_words(row, 'comment', comment_words_nopreprocessing, False), axis=1)\n",
    "comment_words_nopreprocessing = sorted(comment_words_nopreprocessing.items(), key=lambda x: x[1]['total'], reverse=True)\n",
    "comment_words_nopreprocessing_table = pd.DataFrame(comment_words_nopreprocessing, columns=('word', 'details'), index=[words[0] for words in comment_words_nopreprocessing])\n",
    "\n",
    "train_table.apply(lambda row: get_words(row, 'comment', comment_words), axis=1)\n",
    "comment_words = sorted(comment_words.items(), key=lambda x: x[1]['total'], reverse=True)\n",
    "comment_words_table = pd.DataFrame(comment_words, columns=('word', 'details'), index=[words[0] for words in comment_words])\n",
    "\n",
    "comment_words_table"
   ]
  },
  {
   "source": [
    "## Calculating the conditional probiblity for each word\n",
    "Here we have to calculate conditional probiblity of each word when we know the class of comment they belog to.\n",
    "Here prior probiblity of each class is 50% since we have equall number of comments in each class in the train dataset. Each word in the comment consider as an evidence that makes the prediction more accurate and the probiblity considering we see X1...Xn words will form the posterior probiblity. After calculating probiblity of each class considering the words we've seen in comment hte class with more probiblity determines which class is more likely to be the class of this comment. \n",
    "\n",
    "### Additive smoothing\n",
    "This method is used to used for the situations where the a cetain word is occuared in a class but not in the other class and to avoid our model to jump into the coclusion that having this word means the comment belongs to that class we add a certain value ( like 1 for example ) to number of occurance of every word in dictiony for both classes so this way the p(x | class) won't be zero for any of the words and so p(class | X) won't be zero.\n",
    "Jsut like previous sections in order to see the results of smoothing on the data we keep a dataset with no smoothing."
   ],
   "cell_type": "markdown",
   "metadata": {}
  },
  {
   "cell_type": "code",
   "execution_count": 7,
   "metadata": {},
   "outputs": [
    {
     "output_type": "stream",
     "name": "stdout",
     "text": [
      "Wall time: 2.42 s\n"
     ]
    },
    {
     "output_type": "execute_result",
     "data": {
      "text/plain": [
       "            word                                            details  \\\n",
       "خیل          خیل  {'recommend': 1105, 'not recommend': 805, 'tot...   \n",
       "خرید        خرید  {'recommend': 906, 'not recommend': 870, 'tota...   \n",
       "کیف          کیف  {'recommend': 658, 'not recommend': 917, 'tota...   \n",
       "کرد#کن    کرد#کن  {'recommend': 767, 'not recommend': 800, 'tota...   \n",
       "برا          برا  {'recommend': 757, 'not recommend': 553, 'tota...   \n",
       "...          ...                                                ...   \n",
       "امپریال  امپریال   {'recommend': 0, 'not recommend': 1, 'total': 1}   \n",
       "ضدسرطان  ضدسرطان   {'recommend': 0, 'not recommend': 1, 'total': 1}   \n",
       "اکسید      اکسید   {'recommend': 0, 'not recommend': 1, 'total': 1}   \n",
       "مونوه      مونوه   {'recommend': 1, 'not recommend': 0, 'total': 1}   \n",
       "کاربد      کاربد   {'recommend': 1, 'not recommend': 0, 'total': 1}   \n",
       "\n",
       "         p(x | rec)  p(x | not rec)  p(x | rec) no smoothing  \\\n",
       "خیل       -1.439611       -1.896111                -1.440916   \n",
       "خرید      -1.725788       -1.784218                -1.727380   \n",
       "کیف       -2.186612       -1.708396                -2.188803   \n",
       "کرد#کن    -1.965784       -1.905088                -1.967664   \n",
       "برا       -1.984693       -2.437005                -1.986597   \n",
       "...             ...             ...                      ...   \n",
       "امپریال  -11.550747      -10.550747                     -inf   \n",
       "ضدسرطان  -11.550747      -10.550747                     -inf   \n",
       "اکسید    -11.550747      -10.550747                     -inf   \n",
       "مونوه    -10.550747      -11.550747               -11.550747   \n",
       "کاربد    -10.550747      -11.550747               -11.550747   \n",
       "\n",
       "         p(x | not rec) no smoothing  \n",
       "خیل                        -1.897902  \n",
       "خرید                       -1.785875  \n",
       "کیف                        -1.709969  \n",
       "کرد#کن                     -1.906891  \n",
       "برا                        -2.439611  \n",
       "...                              ...  \n",
       "امپریال                   -11.550747  \n",
       "ضدسرطان                   -11.550747  \n",
       "اکسید                     -11.550747  \n",
       "مونوه                           -inf  \n",
       "کاربد                           -inf  \n",
       "\n",
       "[13005 rows x 6 columns]"
      ],
      "text/html": "<div>\n<style scoped>\n    .dataframe tbody tr th:only-of-type {\n        vertical-align: middle;\n    }\n\n    .dataframe tbody tr th {\n        vertical-align: top;\n    }\n\n    .dataframe thead th {\n        text-align: right;\n    }\n</style>\n<table border=\"1\" class=\"dataframe\">\n  <thead>\n    <tr style=\"text-align: right;\">\n      <th></th>\n      <th>word</th>\n      <th>details</th>\n      <th>p(x | rec)</th>\n      <th>p(x | not rec)</th>\n      <th>p(x | rec) no smoothing</th>\n      <th>p(x | not rec) no smoothing</th>\n    </tr>\n  </thead>\n  <tbody>\n    <tr>\n      <th>خیل</th>\n      <td>خیل</td>\n      <td>{'recommend': 1105, 'not recommend': 805, 'tot...</td>\n      <td>-1.439611</td>\n      <td>-1.896111</td>\n      <td>-1.440916</td>\n      <td>-1.897902</td>\n    </tr>\n    <tr>\n      <th>خرید</th>\n      <td>خرید</td>\n      <td>{'recommend': 906, 'not recommend': 870, 'tota...</td>\n      <td>-1.725788</td>\n      <td>-1.784218</td>\n      <td>-1.727380</td>\n      <td>-1.785875</td>\n    </tr>\n    <tr>\n      <th>کیف</th>\n      <td>کیف</td>\n      <td>{'recommend': 658, 'not recommend': 917, 'tota...</td>\n      <td>-2.186612</td>\n      <td>-1.708396</td>\n      <td>-2.188803</td>\n      <td>-1.709969</td>\n    </tr>\n    <tr>\n      <th>کرد#کن</th>\n      <td>کرد#کن</td>\n      <td>{'recommend': 767, 'not recommend': 800, 'tota...</td>\n      <td>-1.965784</td>\n      <td>-1.905088</td>\n      <td>-1.967664</td>\n      <td>-1.906891</td>\n    </tr>\n    <tr>\n      <th>برا</th>\n      <td>برا</td>\n      <td>{'recommend': 757, 'not recommend': 553, 'tota...</td>\n      <td>-1.984693</td>\n      <td>-2.437005</td>\n      <td>-1.986597</td>\n      <td>-2.439611</td>\n    </tr>\n    <tr>\n      <th>...</th>\n      <td>...</td>\n      <td>...</td>\n      <td>...</td>\n      <td>...</td>\n      <td>...</td>\n      <td>...</td>\n    </tr>\n    <tr>\n      <th>امپریال</th>\n      <td>امپریال</td>\n      <td>{'recommend': 0, 'not recommend': 1, 'total': 1}</td>\n      <td>-11.550747</td>\n      <td>-10.550747</td>\n      <td>-inf</td>\n      <td>-11.550747</td>\n    </tr>\n    <tr>\n      <th>ضدسرطان</th>\n      <td>ضدسرطان</td>\n      <td>{'recommend': 0, 'not recommend': 1, 'total': 1}</td>\n      <td>-11.550747</td>\n      <td>-10.550747</td>\n      <td>-inf</td>\n      <td>-11.550747</td>\n    </tr>\n    <tr>\n      <th>اکسید</th>\n      <td>اکسید</td>\n      <td>{'recommend': 0, 'not recommend': 1, 'total': 1}</td>\n      <td>-11.550747</td>\n      <td>-10.550747</td>\n      <td>-inf</td>\n      <td>-11.550747</td>\n    </tr>\n    <tr>\n      <th>مونوه</th>\n      <td>مونوه</td>\n      <td>{'recommend': 1, 'not recommend': 0, 'total': 1}</td>\n      <td>-10.550747</td>\n      <td>-11.550747</td>\n      <td>-11.550747</td>\n      <td>-inf</td>\n    </tr>\n    <tr>\n      <th>کاربد</th>\n      <td>کاربد</td>\n      <td>{'recommend': 1, 'not recommend': 0, 'total': 1}</td>\n      <td>-10.550747</td>\n      <td>-11.550747</td>\n      <td>-11.550747</td>\n      <td>-inf</td>\n    </tr>\n  </tbody>\n</table>\n<p>13005 rows × 6 columns</p>\n</div>"
     },
     "metadata": {},
     "execution_count": 7
    }
   ],
   "source": [
    "%%time\n",
    "rec_comments = train_table.loc[train_table['recommend'] == 'recommended'].shape[0]\n",
    "notrec_comments = train_table.loc[train_table['recommend'] == 'not_recommended'].shape[0]\n",
    "P_REC = rec_comments / train_table.shape[0]\n",
    "P_NOTREC = 1 - P_REC\n",
    "\n",
    "comment_words_nopreprocessing_table['p(x | rec)'] = comment_words_nopreprocessing_table.apply(lambda row: log2((row['details']['recommend']+1) / rec_comments), axis=1)\n",
    "comment_words_nopreprocessing_table['p(x | not rec)'] = comment_words_nopreprocessing_table.apply(lambda row: log2((row['details']['not recommend']+1) / notrec_comments), axis=1)\n",
    "comment_words_nopreprocessing_table['p(x | rec) no smoothing'] = comment_words_nopreprocessing_table.apply(lambda row: log2((row['details']['recommend']) / rec_comments) if row['details']['recommend'] != 0 else -float('inf'), axis=1)\n",
    "comment_words_nopreprocessing_table['p(x | not rec) no smoothing'] = comment_words_nopreprocessing_table.apply(lambda row: log2((row['details']['not recommend']) / notrec_comments) if row['details']['not recommend'] != 0 else -float('inf'), axis=1)\n",
    "\n",
    "comment_words_table['p(x | rec)'] = comment_words_table.apply(lambda row: log2((row['details']['recommend']+1) / rec_comments), axis=1)\n",
    "comment_words_table['p(x | not rec)'] = comment_words_table.apply(lambda row: log2((row['details']['not recommend']+1) / notrec_comments), axis=1)\n",
    "comment_words_table['p(x | rec) no smoothing'] = comment_words_table.apply(lambda row: log2((row['details']['recommend']) / rec_comments) if row['details']['recommend'] != 0 else -float('inf'), axis=1)\n",
    "comment_words_table['p(x | not rec) no smoothing'] = comment_words_table.apply(lambda row: log2((row['details']['not recommend']) / notrec_comments) if row['details']['not recommend'] != 0 else -float('inf'), axis=1)\n",
    "\n",
    "comment_words_table"
   ]
  },
  {
   "source": [
    "## Getting results for the test dataset\n",
    "Here we do the final step we use our dictionary that contains the conditional probiblity for each word and use it to determine which class is more likely to be the class of the current comment we are seeing and get the results of each comment in the dataset with four dictionaries that we generated in the previous sections.\n",
    "The Prodiction column is the main results that is caculated using preprocessing and smoothing the other columns uses only one the mentioned method or niether of them.\n",
    "After getting resluts we caculate some efficiency percentages to see how good our model perfomed.\n",
    "- More Precision means we have less comments that belong to not recommended class but we labled them as recommended class.\n",
    "- More Recall means the number of comments that we correctly labled as recommended is more closer to the actuall number of comments with recommended class.\n",
    "\n",
    "Consider that our model tend to lable comments as recommended less that is should. this way it is less likely to lable a not recommended comment as recommended so the Precision percentage goes really high but our model is not good enough and Recall stays low becuase the number of correctly detected recommended is so much less than actuall number of recommended comments.\n",
    "\n",
    "Now consider the opposite case that our model tend to lable comments as recommended more than it should. In this case the number of correctly detected inevitably increases so Recall would get bigger although our model is not perfoming very well and in this case we can detect the deficiency of our model with Precision since the number of wrongly detected recommended comments increases and this lessen Precision.\n",
    "\n",
    "F1 parameter is kind of average between Recall and Precision. The final value of F1 is (2 * Coreectly detected recommended) / (All detected recommended + Total recommended). High value of F1 means correctly detected recommended number is not too close to niether all detected recommended nor total recommended and this means niether of the above cases happend so F1 is a good way to evaluate the performance of the model."
   ],
   "cell_type": "markdown",
   "metadata": {}
  },
  {
   "cell_type": "code",
   "execution_count": 8,
   "metadata": {},
   "outputs": [
    {
     "output_type": "stream",
     "name": "stdout",
     "text": [
      "Wall time: 17 s\n"
     ]
    },
    {
     "output_type": "execute_result",
     "data": {
      "text/plain": [
       "                                               comment        recommend  \\\n",
       "0    [تازه, خرید, یه, مد, کار, بکنه, مشخص, میشه, کی...      recommended   \n",
       "1    [با, این, قیم, گزینه, , بهتر, ه, میشه, گرف, .,...  not_recommended   \n",
       "2    [خیل, عالیه, ،, فقط, کا, از, اون, سمت, میشد, ب...      recommended   \n",
       "3    [من, این, فیس, براس, چند, روز, یپ, به, دس, رسی...  not_recommended   \n",
       "4    [بنده, یه, هارد, اکسترنال, دار, که, کابل, فابر...      recommended   \n",
       "..                                                 ...              ...   \n",
       "795  [طراح, قشنگه, ول, داخل, عکس, خیل, بزرگ, ب, چ, ...  not_recommended   \n",
       "796  [این, لامپ, چین, هستت, کیف, پایین, ., نور, ک, ...  not_recommended   \n",
       "797  [در, کل, از, این, خرید, راض, هس, و, به, تناسب,...      recommended   \n",
       "798  [تازع, نصب, کردم-سرع, انتقال, و, نصب, باز, رو,...      recommended   \n",
       "799  [نسب, به, باطر, اصل, فقط, 60, %, کار, میکنه\\r,...  not_recommended   \n",
       "\n",
       "          prediction no preprocessing     no smoothing  \\\n",
       "0        recommended      recommended      recommended   \n",
       "1        recommended      recommended      recommended   \n",
       "2        recommended      recommended      recommended   \n",
       "3    not_recommended  not_recommended  not_recommended   \n",
       "4        recommended      recommended      recommended   \n",
       "..               ...              ...              ...   \n",
       "795  not_recommended  not_recommended  not_recommended   \n",
       "796  not_recommended  not_recommended  not_recommended   \n",
       "797      recommended      recommended      recommended   \n",
       "798      recommended      recommended      recommended   \n",
       "799  not_recommended  not_recommended  not_recommended   \n",
       "\n",
       "    no preprocessing or smoothing  \n",
       "0                     recommended  \n",
       "1                     recommended  \n",
       "2                     recommended  \n",
       "3                 not_recommended  \n",
       "4                     recommended  \n",
       "..                            ...  \n",
       "795               not_recommended  \n",
       "796               not_recommended  \n",
       "797                   recommended  \n",
       "798                   recommended  \n",
       "799               not_recommended  \n",
       "\n",
       "[800 rows x 6 columns]"
      ],
      "text/html": "<div>\n<style scoped>\n    .dataframe tbody tr th:only-of-type {\n        vertical-align: middle;\n    }\n\n    .dataframe tbody tr th {\n        vertical-align: top;\n    }\n\n    .dataframe thead th {\n        text-align: right;\n    }\n</style>\n<table border=\"1\" class=\"dataframe\">\n  <thead>\n    <tr style=\"text-align: right;\">\n      <th></th>\n      <th>comment</th>\n      <th>recommend</th>\n      <th>prediction</th>\n      <th>no preprocessing</th>\n      <th>no smoothing</th>\n      <th>no preprocessing or smoothing</th>\n    </tr>\n  </thead>\n  <tbody>\n    <tr>\n      <th>0</th>\n      <td>[تازه, خرید, یه, مد, کار, بکنه, مشخص, میشه, کی...</td>\n      <td>recommended</td>\n      <td>recommended</td>\n      <td>recommended</td>\n      <td>recommended</td>\n      <td>recommended</td>\n    </tr>\n    <tr>\n      <th>1</th>\n      <td>[با, این, قیم, گزینه, , بهتر, ه, میشه, گرف, .,...</td>\n      <td>not_recommended</td>\n      <td>recommended</td>\n      <td>recommended</td>\n      <td>recommended</td>\n      <td>recommended</td>\n    </tr>\n    <tr>\n      <th>2</th>\n      <td>[خیل, عالیه, ،, فقط, کا, از, اون, سمت, میشد, ب...</td>\n      <td>recommended</td>\n      <td>recommended</td>\n      <td>recommended</td>\n      <td>recommended</td>\n      <td>recommended</td>\n    </tr>\n    <tr>\n      <th>3</th>\n      <td>[من, این, فیس, براس, چند, روز, یپ, به, دس, رسی...</td>\n      <td>not_recommended</td>\n      <td>not_recommended</td>\n      <td>not_recommended</td>\n      <td>not_recommended</td>\n      <td>not_recommended</td>\n    </tr>\n    <tr>\n      <th>4</th>\n      <td>[بنده, یه, هارد, اکسترنال, دار, که, کابل, فابر...</td>\n      <td>recommended</td>\n      <td>recommended</td>\n      <td>recommended</td>\n      <td>recommended</td>\n      <td>recommended</td>\n    </tr>\n    <tr>\n      <th>...</th>\n      <td>...</td>\n      <td>...</td>\n      <td>...</td>\n      <td>...</td>\n      <td>...</td>\n      <td>...</td>\n    </tr>\n    <tr>\n      <th>795</th>\n      <td>[طراح, قشنگه, ول, داخل, عکس, خیل, بزرگ, ب, چ, ...</td>\n      <td>not_recommended</td>\n      <td>not_recommended</td>\n      <td>not_recommended</td>\n      <td>not_recommended</td>\n      <td>not_recommended</td>\n    </tr>\n    <tr>\n      <th>796</th>\n      <td>[این, لامپ, چین, هستت, کیف, پایین, ., نور, ک, ...</td>\n      <td>not_recommended</td>\n      <td>not_recommended</td>\n      <td>not_recommended</td>\n      <td>not_recommended</td>\n      <td>not_recommended</td>\n    </tr>\n    <tr>\n      <th>797</th>\n      <td>[در, کل, از, این, خرید, راض, هس, و, به, تناسب,...</td>\n      <td>recommended</td>\n      <td>recommended</td>\n      <td>recommended</td>\n      <td>recommended</td>\n      <td>recommended</td>\n    </tr>\n    <tr>\n      <th>798</th>\n      <td>[تازع, نصب, کردم-سرع, انتقال, و, نصب, باز, رو,...</td>\n      <td>recommended</td>\n      <td>recommended</td>\n      <td>recommended</td>\n      <td>recommended</td>\n      <td>recommended</td>\n    </tr>\n    <tr>\n      <th>799</th>\n      <td>[نسب, به, باطر, اصل, فقط, 60, %, کار, میکنه\\r,...</td>\n      <td>not_recommended</td>\n      <td>not_recommended</td>\n      <td>not_recommended</td>\n      <td>not_recommended</td>\n      <td>not_recommended</td>\n    </tr>\n  </tbody>\n</table>\n<p>800 rows × 6 columns</p>\n</div>"
     },
     "metadata": {},
     "execution_count": 8
    }
   ],
   "source": [
    "%%time\n",
    "def evaluate(row, comment_words_table, rec_probs, notrec_probs):\n",
    "    p_rec = log2(P_REC)\n",
    "    p_notrec = log2(P_NOTREC)\n",
    "    for word in row['comment']:\n",
    "        if word in comment_words_table.index:\n",
    "            detail = comment_words_table.loc[word]\n",
    "            p_rec += detail[rec_probs]\n",
    "            p_notrec += detail[notrec_probs]\n",
    "    if p_rec > p_notrec:\n",
    "        return 'recommended'\n",
    "    else:\n",
    "        return 'not_recommended'\n",
    "\n",
    "test_table['prediction'] = test_table.apply(lambda row: evaluate(row, comment_words_table, 'p(x | rec)', 'p(x | not rec)'), axis=1)\n",
    "test_table['no preprocessing'] = test_table.apply(lambda row: evaluate(row, comment_words_nopreprocessing_table, 'p(x | rec)', 'p(x | not rec)'), axis=1)\n",
    "test_table['no smoothing'] = test_table.apply(lambda row: evaluate(row, comment_words_table, 'p(x | rec) no smoothing', 'p(x | not rec) no smoothing'), axis=1)\n",
    "test_table['no preprocessing or smoothing'] = test_table.apply(lambda row: evaluate(row, comment_words_nopreprocessing_table, 'p(x | rec) no smoothing', 'p(x | not rec) no smoothing'), axis=1)\n",
    "\n",
    "test_table"
   ]
  },
  {
   "cell_type": "code",
   "execution_count": 9,
   "metadata": {},
   "outputs": [
    {
     "output_type": "stream",
     "name": "stdout",
     "text": [
      "Results with preprocessing and additave smoothing:\n",
      "\tAccuracy:  93.625  %\n",
      "\tPrecision:  90.86651053864169  %\n",
      "\tRecall:  97.0  %\n",
      "\tF1:  93.83313180169287\n",
      "\n",
      "Results with preprocessing only:\n",
      "\tAccuracy:  89.5  %\n",
      "\tPrecision:  89.30348258706468  %\n",
      "\tRecall:  89.75  %\n",
      "\tF1:  89.52618453865337\n",
      "\n",
      "Results with additave smoothing only:\n",
      "\tAccuracy:  91.625  %\n",
      "\tPrecision:  87.24832214765101  %\n",
      "\tRecall:  97.5  %\n",
      "\tF1:  92.08972845336481\n",
      "\n",
      "Results with no preprocessing or additave smoothing:\n",
      "\tAccuracy:  89.0  %\n",
      "\tPrecision:  88.04878048780488  %\n",
      "\tRecall:  90.25  %\n",
      "\tF1:  89.1358024691358\n"
     ]
    }
   ],
   "source": [
    "def get_results(test_table, result_colname):\n",
    "    accuracy = 0\n",
    "    correct_detected_recommended = 0\n",
    "    all_detected_recommended = 0\n",
    "    total_recommended = test_table.loc[test_table['recommend'] == 'recommended'].shape[0]\n",
    "    for indx, row in test_table.iterrows():\n",
    "        if row['recommend'] == row[result_colname]:\n",
    "            accuracy += 1\n",
    "        if row[result_colname] == 'recommended':\n",
    "            all_detected_recommended += 1\n",
    "            if row['recommend'] == \"recommended\":\n",
    "                    correct_detected_recommended += 1\n",
    "\n",
    "    accuracy = accuracy / test_table.shape[0] * 100\n",
    "    precision = correct_detected_recommended / all_detected_recommended * 100\n",
    "    recall = correct_detected_recommended / total_recommended * 100\n",
    "    F1 = 2 * (precision * recall) / (precision + recall)\n",
    "    print(\"\\tAccuracy: \", accuracy, \" %\")\n",
    "    print(\"\\tPrecision: \", precision, \" %\")\n",
    "    print(\"\\tRecall: \", recall, \" %\")\n",
    "    print(\"\\tF1: \", F1)\n",
    "\n",
    "print(\"Results with preprocessing and additave smoothing:\")\n",
    "get_results(test_table, 'prediction')\n",
    "print()\n",
    "print(\"Results with preprocessing only:\")\n",
    "get_results(test_table, 'no smoothing')\n",
    "print()\n",
    "print(\"Results with additave smoothing only:\")\n",
    "get_results(test_table, 'no preprocessing')\n",
    "print()\n",
    "print(\"Results with no preprocessing or additave smoothing:\")\n",
    "get_results(test_table, 'no preprocessing or smoothing')"
   ]
  },
  {
   "source": [
    "## Conclusion\n",
    "Numbers above shows that smoothing has more effect on the results than preprocessing and that's becauze preprocessing do some simplification by eliminating words that don't directy related to the class of comments or normalizing words for exmaple by gather words with same meaning and origin into same category. This process although has effect on the results it's not that significant on the other hand smoothing as mentioned above can eliminate the prossiblity that our model decides based on just one or two words in the comment that showed up only in one of the classes."
   ],
   "cell_type": "markdown",
   "metadata": {}
  },
  {
   "cell_type": "code",
   "execution_count": 14,
   "metadata": {},
   "outputs": [
    {
     "output_type": "execute_result",
     "data": {
      "text/plain": [
       "                                               comment        recommend  \\\n",
       "1    [با, این, قیم, گزینه, , بهتر, ه, میشه, گرف, .,...  not_recommended   \n",
       "8    [سلا, ،, راح, شد#شو, از, کابل, شارژ, ،, توصیه,...      recommended   \n",
       "69   [من, خود, جزو, افراد, بود#باش, که, نزدیک, سیزد...  not_recommended   \n",
       "83   [سلا, دوس, بعد, از, استفاده, چراغ, چک, تویوتا,...      recommended   \n",
       "102                     [ایراد, دستگاه, ایراد, دستگاه]  not_recommended   \n",
       "119  [برد, بالا, نداره, کیف, صدا, معمولیه, برا, تا,...  not_recommended   \n",
       "138  [روتخت, نسب, به, بقیه, روتختیا, کوچیکتره, جور,...      recommended   \n",
       "142  [والله, من, اینو, فقط, بخاطر, برد#بر, خرید, .,...  not_recommended   \n",
       "157  [با, قابل, تعویض, و, فقط, به, درد, اصلاه, با, ...  not_recommended   \n",
       "166  [من, برا, هدیه, خرید, راست, اینقدر, که, هزینه,...  not_recommended   \n",
       "173  [سرعت, فوق, العاده, اس, خیل, چیز, بدرد, بخوره,...      recommended   \n",
       "185  [قیم, بالا, نسب, به, موارد, دیگه, با, این, خصو...  not_recommended   \n",
       "218  [خیل, دیر, شارژ, میکنه, نسب, به, بقیه, شارژر, ...  not_recommended   \n",
       "221  [راض, نیس, ., هر, دفعه, که, به, کامپیو, یا, تل...  not_recommended   \n",
       "231  [دستک, کارآمد, نیس, با, وجودیکه, طرح, و, دوخ, ...  not_recommended   \n",
       "240  [اگر, سایز, شما, 38, اس, باید, سایز, 41, خرید#...  not_recommended   \n",
       "308                    [خیل, جنس, ضعیفه, راض, بود#باش]  not_recommended   \n",
       "348  [قیم, رقابت, و, کیف, خوب, \\r, کلا, ارز, خرید, ...      recommended   \n",
       "364  [کیف, بسیار, معمول, سایز, کوچیک, نسبتا, گرون, ...  not_recommended   \n",
       "365  [متاسفانه, به, عل, ذکر, نشدن, تیبا2, در, توصیح...      recommended   \n",
       "375  [سلا, ., دو, هفته, ا, هس, به, دس, رسیده, ., هر...      recommended   \n",
       "412  [من, این, هدفونو, خرید, حدود, یک, ساع, تو, گو,...  not_recommended   \n",
       "421  [از, نظر, ظاهر, خیل, شیک, و, زیباس, اما, دوا, ...  not_recommended   \n",
       "439  [کار, که, میخواین, رو, انجا, میده, ول, مایع, ک...  not_recommended   \n",
       "452  [خیل, معمولیه, ., مواد, داخل, زیاده, من, بخاطر...  not_recommended   \n",
       "460  [واکس, خودرو, !, جالبه, موقع, استفاده, متوجه, ...  not_recommended   \n",
       "468  [بعد, از, ۱, سال, استفاده, کاملا, چسب, , باز, ...      recommended   \n",
       "485  [یک, موس, معمول, معمول, خواهید_دا, ., برا, است...  not_recommended   \n",
       "492  [دقیقا, روز, دو, رو, درصد, 60, گیر, میکنه, و, ...  not_recommended   \n",
       "493  [منکه, منظ, استفاده, کرد#کن, اما, تاثیر, دید#ب...  not_recommended   \n",
       "497  [این, لوس, دیروز, به, دس, رسید, ., از, لحاظ, ظ...      recommended   \n",
       "514  [بسیار, زیبا, و, بسیار, ب, دوا, ., زیبا, اما, ...  not_recommended   \n",
       "517  [به, نظر, همه, چیز, عالیه, ،, ول, موقع, استفاد...  not_recommended   \n",
       "525  [اصلا, کیف, داشت#دار, ., 20, ساع, طول, میکشه, ...      recommended   \n",
       "540  [کیف, صدا, و, س, , مناسب, داشت#دار, ., \\r, ول,...  not_recommended   \n",
       "542  [بسیار, کوچک, ,اصلا, جلوه, نداره,,میخوا, پس, ب...  not_recommended   \n",
       "548  [بنده, برا, پرفیو, هزینه, کرد#کن, ول, متاسفانه...  not_recommended   \n",
       "564             [بد, نیس, نسب, به, قیمت, کاور, ژله, ا]  not_recommended   \n",
       "599  [سلا, این, دستگاه, خیل, خوب, نیس, وقت, صدا, پخ...  not_recommended   \n",
       "600  [باسلا, ., ازدیج, کالا, چند, دفعه, خرید, کرد#ک...  not_recommended   \n",
       "616  [اسکرول, نسبتا, سفته, من, این, برد#بر, رو, قبل...  not_recommended   \n",
       "637  [سلا, \\r, من, خرید, ول, پخ, بو, و, ماندگار, ک,...  not_recommended   \n",
       "639  [ال, حدود, دو, ماهه, که, هر, دو, روز, یکبار, ا...  not_recommended   \n",
       "644  [دیج, کالا\\r, به, همراه, مداد, و, پاکن, بود#با...  not_recommended   \n",
       "664  [کیف, ک, و, پایه, , لامپ, , این, مهتاب, خیل, پ...      recommended   \n",
       "687  [با, عکس, موجود, در, سا, خیل, متفاو, بود#باش, ...  not_recommended   \n",
       "692  [کاملا, معمول, اس, و, پیشنهاد, میکن, با, قیم, ...  not_recommended   \n",
       "711             [خوبه, ول, قدر, باد, کم, داره, ک, باد]  not_recommended   \n",
       "730  [این, محصول, ارز, خرید, نداره, من, مشک, این, م...  not_recommended   \n",
       "749  [باسلا, خدم, دوس, من, تعجب, میکن, از, چیه, این...  not_recommended   \n",
       "761  [من, دوسه, ماه, هس, این, کفشدازردیج, گرف, متاس...      recommended   \n",
       "\n",
       "          prediction no preprocessing     no smoothing  \\\n",
       "1        recommended      recommended      recommended   \n",
       "8    not_recommended  not_recommended  not_recommended   \n",
       "69       recommended      recommended      recommended   \n",
       "83   not_recommended  not_recommended  not_recommended   \n",
       "102      recommended      recommended      recommended   \n",
       "119      recommended      recommended      recommended   \n",
       "138  not_recommended  not_recommended  not_recommended   \n",
       "142      recommended      recommended  not_recommended   \n",
       "157      recommended      recommended  not_recommended   \n",
       "166      recommended      recommended      recommended   \n",
       "173  not_recommended      recommended  not_recommended   \n",
       "185      recommended      recommended      recommended   \n",
       "218      recommended      recommended      recommended   \n",
       "221      recommended      recommended  not_recommended   \n",
       "231      recommended      recommended      recommended   \n",
       "240      recommended      recommended      recommended   \n",
       "308      recommended      recommended      recommended   \n",
       "348  not_recommended      recommended  not_recommended   \n",
       "364      recommended      recommended      recommended   \n",
       "365  not_recommended  not_recommended      recommended   \n",
       "375  not_recommended      recommended  not_recommended   \n",
       "412      recommended      recommended      recommended   \n",
       "421      recommended      recommended  not_recommended   \n",
       "439      recommended      recommended      recommended   \n",
       "452      recommended      recommended  not_recommended   \n",
       "460      recommended      recommended  not_recommended   \n",
       "468  not_recommended  not_recommended      recommended   \n",
       "485      recommended      recommended      recommended   \n",
       "492      recommended      recommended      recommended   \n",
       "493      recommended      recommended      recommended   \n",
       "497  not_recommended  not_recommended  not_recommended   \n",
       "514      recommended      recommended      recommended   \n",
       "517      recommended      recommended      recommended   \n",
       "525  not_recommended  not_recommended  not_recommended   \n",
       "540      recommended      recommended      recommended   \n",
       "542      recommended  not_recommended      recommended   \n",
       "548      recommended      recommended      recommended   \n",
       "564      recommended      recommended      recommended   \n",
       "599      recommended      recommended      recommended   \n",
       "600      recommended      recommended      recommended   \n",
       "616      recommended      recommended      recommended   \n",
       "637      recommended      recommended      recommended   \n",
       "639      recommended      recommended  not_recommended   \n",
       "644      recommended      recommended  not_recommended   \n",
       "664  not_recommended  not_recommended  not_recommended   \n",
       "687      recommended      recommended      recommended   \n",
       "692      recommended      recommended      recommended   \n",
       "711      recommended      recommended      recommended   \n",
       "730      recommended      recommended      recommended   \n",
       "749      recommended      recommended  not_recommended   \n",
       "761  not_recommended  not_recommended      recommended   \n",
       "\n",
       "    no preprocessing or smoothing  \n",
       "1                     recommended  \n",
       "8                 not_recommended  \n",
       "69                    recommended  \n",
       "83                not_recommended  \n",
       "102                   recommended  \n",
       "119                   recommended  \n",
       "138               not_recommended  \n",
       "142               not_recommended  \n",
       "157               not_recommended  \n",
       "166                   recommended  \n",
       "173                   recommended  \n",
       "185                   recommended  \n",
       "218                   recommended  \n",
       "221               not_recommended  \n",
       "231                   recommended  \n",
       "240                   recommended  \n",
       "308                   recommended  \n",
       "348                   recommended  \n",
       "364                   recommended  \n",
       "365                   recommended  \n",
       "375               not_recommended  \n",
       "412                   recommended  \n",
       "421               not_recommended  \n",
       "439                   recommended  \n",
       "452               not_recommended  \n",
       "460               not_recommended  \n",
       "468                   recommended  \n",
       "485                   recommended  \n",
       "492                   recommended  \n",
       "493                   recommended  \n",
       "497               not_recommended  \n",
       "514                   recommended  \n",
       "517                   recommended  \n",
       "525               not_recommended  \n",
       "540                   recommended  \n",
       "542                   recommended  \n",
       "548                   recommended  \n",
       "564                   recommended  \n",
       "599                   recommended  \n",
       "600                   recommended  \n",
       "616                   recommended  \n",
       "637                   recommended  \n",
       "639               not_recommended  \n",
       "644               not_recommended  \n",
       "664               not_recommended  \n",
       "687                   recommended  \n",
       "692                   recommended  \n",
       "711                   recommended  \n",
       "730                   recommended  \n",
       "749               not_recommended  \n",
       "761                   recommended  "
      ],
      "text/html": "<div>\n<style scoped>\n    .dataframe tbody tr th:only-of-type {\n        vertical-align: middle;\n    }\n\n    .dataframe tbody tr th {\n        vertical-align: top;\n    }\n\n    .dataframe thead th {\n        text-align: right;\n    }\n</style>\n<table border=\"1\" class=\"dataframe\">\n  <thead>\n    <tr style=\"text-align: right;\">\n      <th></th>\n      <th>comment</th>\n      <th>recommend</th>\n      <th>prediction</th>\n      <th>no preprocessing</th>\n      <th>no smoothing</th>\n      <th>no preprocessing or smoothing</th>\n    </tr>\n  </thead>\n  <tbody>\n    <tr>\n      <th>1</th>\n      <td>[با, این, قیم, گزینه, , بهتر, ه, میشه, گرف, .,...</td>\n      <td>not_recommended</td>\n      <td>recommended</td>\n      <td>recommended</td>\n      <td>recommended</td>\n      <td>recommended</td>\n    </tr>\n    <tr>\n      <th>8</th>\n      <td>[سلا, ،, راح, شد#شو, از, کابل, شارژ, ،, توصیه,...</td>\n      <td>recommended</td>\n      <td>not_recommended</td>\n      <td>not_recommended</td>\n      <td>not_recommended</td>\n      <td>not_recommended</td>\n    </tr>\n    <tr>\n      <th>69</th>\n      <td>[من, خود, جزو, افراد, بود#باش, که, نزدیک, سیزد...</td>\n      <td>not_recommended</td>\n      <td>recommended</td>\n      <td>recommended</td>\n      <td>recommended</td>\n      <td>recommended</td>\n    </tr>\n    <tr>\n      <th>83</th>\n      <td>[سلا, دوس, بعد, از, استفاده, چراغ, چک, تویوتا,...</td>\n      <td>recommended</td>\n      <td>not_recommended</td>\n      <td>not_recommended</td>\n      <td>not_recommended</td>\n      <td>not_recommended</td>\n    </tr>\n    <tr>\n      <th>102</th>\n      <td>[ایراد, دستگاه, ایراد, دستگاه]</td>\n      <td>not_recommended</td>\n      <td>recommended</td>\n      <td>recommended</td>\n      <td>recommended</td>\n      <td>recommended</td>\n    </tr>\n    <tr>\n      <th>119</th>\n      <td>[برد, بالا, نداره, کیف, صدا, معمولیه, برا, تا,...</td>\n      <td>not_recommended</td>\n      <td>recommended</td>\n      <td>recommended</td>\n      <td>recommended</td>\n      <td>recommended</td>\n    </tr>\n    <tr>\n      <th>138</th>\n      <td>[روتخت, نسب, به, بقیه, روتختیا, کوچیکتره, جور,...</td>\n      <td>recommended</td>\n      <td>not_recommended</td>\n      <td>not_recommended</td>\n      <td>not_recommended</td>\n      <td>not_recommended</td>\n    </tr>\n    <tr>\n      <th>142</th>\n      <td>[والله, من, اینو, فقط, بخاطر, برد#بر, خرید, .,...</td>\n      <td>not_recommended</td>\n      <td>recommended</td>\n      <td>recommended</td>\n      <td>not_recommended</td>\n      <td>not_recommended</td>\n    </tr>\n    <tr>\n      <th>157</th>\n      <td>[با, قابل, تعویض, و, فقط, به, درد, اصلاه, با, ...</td>\n      <td>not_recommended</td>\n      <td>recommended</td>\n      <td>recommended</td>\n      <td>not_recommended</td>\n      <td>not_recommended</td>\n    </tr>\n    <tr>\n      <th>166</th>\n      <td>[من, برا, هدیه, خرید, راست, اینقدر, که, هزینه,...</td>\n      <td>not_recommended</td>\n      <td>recommended</td>\n      <td>recommended</td>\n      <td>recommended</td>\n      <td>recommended</td>\n    </tr>\n    <tr>\n      <th>173</th>\n      <td>[سرعت, فوق, العاده, اس, خیل, چیز, بدرد, بخوره,...</td>\n      <td>recommended</td>\n      <td>not_recommended</td>\n      <td>recommended</td>\n      <td>not_recommended</td>\n      <td>recommended</td>\n    </tr>\n    <tr>\n      <th>185</th>\n      <td>[قیم, بالا, نسب, به, موارد, دیگه, با, این, خصو...</td>\n      <td>not_recommended</td>\n      <td>recommended</td>\n      <td>recommended</td>\n      <td>recommended</td>\n      <td>recommended</td>\n    </tr>\n    <tr>\n      <th>218</th>\n      <td>[خیل, دیر, شارژ, میکنه, نسب, به, بقیه, شارژر, ...</td>\n      <td>not_recommended</td>\n      <td>recommended</td>\n      <td>recommended</td>\n      <td>recommended</td>\n      <td>recommended</td>\n    </tr>\n    <tr>\n      <th>221</th>\n      <td>[راض, نیس, ., هر, دفعه, که, به, کامپیو, یا, تل...</td>\n      <td>not_recommended</td>\n      <td>recommended</td>\n      <td>recommended</td>\n      <td>not_recommended</td>\n      <td>not_recommended</td>\n    </tr>\n    <tr>\n      <th>231</th>\n      <td>[دستک, کارآمد, نیس, با, وجودیکه, طرح, و, دوخ, ...</td>\n      <td>not_recommended</td>\n      <td>recommended</td>\n      <td>recommended</td>\n      <td>recommended</td>\n      <td>recommended</td>\n    </tr>\n    <tr>\n      <th>240</th>\n      <td>[اگر, سایز, شما, 38, اس, باید, سایز, 41, خرید#...</td>\n      <td>not_recommended</td>\n      <td>recommended</td>\n      <td>recommended</td>\n      <td>recommended</td>\n      <td>recommended</td>\n    </tr>\n    <tr>\n      <th>308</th>\n      <td>[خیل, جنس, ضعیفه, راض, بود#باش]</td>\n      <td>not_recommended</td>\n      <td>recommended</td>\n      <td>recommended</td>\n      <td>recommended</td>\n      <td>recommended</td>\n    </tr>\n    <tr>\n      <th>348</th>\n      <td>[قیم, رقابت, و, کیف, خوب, \\r, کلا, ارز, خرید, ...</td>\n      <td>recommended</td>\n      <td>not_recommended</td>\n      <td>recommended</td>\n      <td>not_recommended</td>\n      <td>recommended</td>\n    </tr>\n    <tr>\n      <th>364</th>\n      <td>[کیف, بسیار, معمول, سایز, کوچیک, نسبتا, گرون, ...</td>\n      <td>not_recommended</td>\n      <td>recommended</td>\n      <td>recommended</td>\n      <td>recommended</td>\n      <td>recommended</td>\n    </tr>\n    <tr>\n      <th>365</th>\n      <td>[متاسفانه, به, عل, ذکر, نشدن, تیبا2, در, توصیح...</td>\n      <td>recommended</td>\n      <td>not_recommended</td>\n      <td>not_recommended</td>\n      <td>recommended</td>\n      <td>recommended</td>\n    </tr>\n    <tr>\n      <th>375</th>\n      <td>[سلا, ., دو, هفته, ا, هس, به, دس, رسیده, ., هر...</td>\n      <td>recommended</td>\n      <td>not_recommended</td>\n      <td>recommended</td>\n      <td>not_recommended</td>\n      <td>not_recommended</td>\n    </tr>\n    <tr>\n      <th>412</th>\n      <td>[من, این, هدفونو, خرید, حدود, یک, ساع, تو, گو,...</td>\n      <td>not_recommended</td>\n      <td>recommended</td>\n      <td>recommended</td>\n      <td>recommended</td>\n      <td>recommended</td>\n    </tr>\n    <tr>\n      <th>421</th>\n      <td>[از, نظر, ظاهر, خیل, شیک, و, زیباس, اما, دوا, ...</td>\n      <td>not_recommended</td>\n      <td>recommended</td>\n      <td>recommended</td>\n      <td>not_recommended</td>\n      <td>not_recommended</td>\n    </tr>\n    <tr>\n      <th>439</th>\n      <td>[کار, که, میخواین, رو, انجا, میده, ول, مایع, ک...</td>\n      <td>not_recommended</td>\n      <td>recommended</td>\n      <td>recommended</td>\n      <td>recommended</td>\n      <td>recommended</td>\n    </tr>\n    <tr>\n      <th>452</th>\n      <td>[خیل, معمولیه, ., مواد, داخل, زیاده, من, بخاطر...</td>\n      <td>not_recommended</td>\n      <td>recommended</td>\n      <td>recommended</td>\n      <td>not_recommended</td>\n      <td>not_recommended</td>\n    </tr>\n    <tr>\n      <th>460</th>\n      <td>[واکس, خودرو, !, جالبه, موقع, استفاده, متوجه, ...</td>\n      <td>not_recommended</td>\n      <td>recommended</td>\n      <td>recommended</td>\n      <td>not_recommended</td>\n      <td>not_recommended</td>\n    </tr>\n    <tr>\n      <th>468</th>\n      <td>[بعد, از, ۱, سال, استفاده, کاملا, چسب, , باز, ...</td>\n      <td>recommended</td>\n      <td>not_recommended</td>\n      <td>not_recommended</td>\n      <td>recommended</td>\n      <td>recommended</td>\n    </tr>\n    <tr>\n      <th>485</th>\n      <td>[یک, موس, معمول, معمول, خواهید_دا, ., برا, است...</td>\n      <td>not_recommended</td>\n      <td>recommended</td>\n      <td>recommended</td>\n      <td>recommended</td>\n      <td>recommended</td>\n    </tr>\n    <tr>\n      <th>492</th>\n      <td>[دقیقا, روز, دو, رو, درصد, 60, گیر, میکنه, و, ...</td>\n      <td>not_recommended</td>\n      <td>recommended</td>\n      <td>recommended</td>\n      <td>recommended</td>\n      <td>recommended</td>\n    </tr>\n    <tr>\n      <th>493</th>\n      <td>[منکه, منظ, استفاده, کرد#کن, اما, تاثیر, دید#ب...</td>\n      <td>not_recommended</td>\n      <td>recommended</td>\n      <td>recommended</td>\n      <td>recommended</td>\n      <td>recommended</td>\n    </tr>\n    <tr>\n      <th>497</th>\n      <td>[این, لوس, دیروز, به, دس, رسید, ., از, لحاظ, ظ...</td>\n      <td>recommended</td>\n      <td>not_recommended</td>\n      <td>not_recommended</td>\n      <td>not_recommended</td>\n      <td>not_recommended</td>\n    </tr>\n    <tr>\n      <th>514</th>\n      <td>[بسیار, زیبا, و, بسیار, ب, دوا, ., زیبا, اما, ...</td>\n      <td>not_recommended</td>\n      <td>recommended</td>\n      <td>recommended</td>\n      <td>recommended</td>\n      <td>recommended</td>\n    </tr>\n    <tr>\n      <th>517</th>\n      <td>[به, نظر, همه, چیز, عالیه, ،, ول, موقع, استفاد...</td>\n      <td>not_recommended</td>\n      <td>recommended</td>\n      <td>recommended</td>\n      <td>recommended</td>\n      <td>recommended</td>\n    </tr>\n    <tr>\n      <th>525</th>\n      <td>[اصلا, کیف, داشت#دار, ., 20, ساع, طول, میکشه, ...</td>\n      <td>recommended</td>\n      <td>not_recommended</td>\n      <td>not_recommended</td>\n      <td>not_recommended</td>\n      <td>not_recommended</td>\n    </tr>\n    <tr>\n      <th>540</th>\n      <td>[کیف, صدا, و, س, , مناسب, داشت#دار, ., \\r, ول,...</td>\n      <td>not_recommended</td>\n      <td>recommended</td>\n      <td>recommended</td>\n      <td>recommended</td>\n      <td>recommended</td>\n    </tr>\n    <tr>\n      <th>542</th>\n      <td>[بسیار, کوچک, ,اصلا, جلوه, نداره,,میخوا, پس, ب...</td>\n      <td>not_recommended</td>\n      <td>recommended</td>\n      <td>not_recommended</td>\n      <td>recommended</td>\n      <td>recommended</td>\n    </tr>\n    <tr>\n      <th>548</th>\n      <td>[بنده, برا, پرفیو, هزینه, کرد#کن, ول, متاسفانه...</td>\n      <td>not_recommended</td>\n      <td>recommended</td>\n      <td>recommended</td>\n      <td>recommended</td>\n      <td>recommended</td>\n    </tr>\n    <tr>\n      <th>564</th>\n      <td>[بد, نیس, نسب, به, قیمت, کاور, ژله, ا]</td>\n      <td>not_recommended</td>\n      <td>recommended</td>\n      <td>recommended</td>\n      <td>recommended</td>\n      <td>recommended</td>\n    </tr>\n    <tr>\n      <th>599</th>\n      <td>[سلا, این, دستگاه, خیل, خوب, نیس, وقت, صدا, پخ...</td>\n      <td>not_recommended</td>\n      <td>recommended</td>\n      <td>recommended</td>\n      <td>recommended</td>\n      <td>recommended</td>\n    </tr>\n    <tr>\n      <th>600</th>\n      <td>[باسلا, ., ازدیج, کالا, چند, دفعه, خرید, کرد#ک...</td>\n      <td>not_recommended</td>\n      <td>recommended</td>\n      <td>recommended</td>\n      <td>recommended</td>\n      <td>recommended</td>\n    </tr>\n    <tr>\n      <th>616</th>\n      <td>[اسکرول, نسبتا, سفته, من, این, برد#بر, رو, قبل...</td>\n      <td>not_recommended</td>\n      <td>recommended</td>\n      <td>recommended</td>\n      <td>recommended</td>\n      <td>recommended</td>\n    </tr>\n    <tr>\n      <th>637</th>\n      <td>[سلا, \\r, من, خرید, ول, پخ, بو, و, ماندگار, ک,...</td>\n      <td>not_recommended</td>\n      <td>recommended</td>\n      <td>recommended</td>\n      <td>recommended</td>\n      <td>recommended</td>\n    </tr>\n    <tr>\n      <th>639</th>\n      <td>[ال, حدود, دو, ماهه, که, هر, دو, روز, یکبار, ا...</td>\n      <td>not_recommended</td>\n      <td>recommended</td>\n      <td>recommended</td>\n      <td>not_recommended</td>\n      <td>not_recommended</td>\n    </tr>\n    <tr>\n      <th>644</th>\n      <td>[دیج, کالا\\r, به, همراه, مداد, و, پاکن, بود#با...</td>\n      <td>not_recommended</td>\n      <td>recommended</td>\n      <td>recommended</td>\n      <td>not_recommended</td>\n      <td>not_recommended</td>\n    </tr>\n    <tr>\n      <th>664</th>\n      <td>[کیف, ک, و, پایه, , لامپ, , این, مهتاب, خیل, پ...</td>\n      <td>recommended</td>\n      <td>not_recommended</td>\n      <td>not_recommended</td>\n      <td>not_recommended</td>\n      <td>not_recommended</td>\n    </tr>\n    <tr>\n      <th>687</th>\n      <td>[با, عکس, موجود, در, سا, خیل, متفاو, بود#باش, ...</td>\n      <td>not_recommended</td>\n      <td>recommended</td>\n      <td>recommended</td>\n      <td>recommended</td>\n      <td>recommended</td>\n    </tr>\n    <tr>\n      <th>692</th>\n      <td>[کاملا, معمول, اس, و, پیشنهاد, میکن, با, قیم, ...</td>\n      <td>not_recommended</td>\n      <td>recommended</td>\n      <td>recommended</td>\n      <td>recommended</td>\n      <td>recommended</td>\n    </tr>\n    <tr>\n      <th>711</th>\n      <td>[خوبه, ول, قدر, باد, کم, داره, ک, باد]</td>\n      <td>not_recommended</td>\n      <td>recommended</td>\n      <td>recommended</td>\n      <td>recommended</td>\n      <td>recommended</td>\n    </tr>\n    <tr>\n      <th>730</th>\n      <td>[این, محصول, ارز, خرید, نداره, من, مشک, این, م...</td>\n      <td>not_recommended</td>\n      <td>recommended</td>\n      <td>recommended</td>\n      <td>recommended</td>\n      <td>recommended</td>\n    </tr>\n    <tr>\n      <th>749</th>\n      <td>[باسلا, خدم, دوس, من, تعجب, میکن, از, چیه, این...</td>\n      <td>not_recommended</td>\n      <td>recommended</td>\n      <td>recommended</td>\n      <td>not_recommended</td>\n      <td>not_recommended</td>\n    </tr>\n    <tr>\n      <th>761</th>\n      <td>[من, دوسه, ماه, هس, این, کفشدازردیج, گرف, متاس...</td>\n      <td>recommended</td>\n      <td>not_recommended</td>\n      <td>not_recommended</td>\n      <td>recommended</td>\n      <td>recommended</td>\n    </tr>\n  </tbody>\n</table>\n</div>"
     },
     "metadata": {},
     "execution_count": 14
    }
   ],
   "source": [
    "test_table.to_csv(\"final results.csv\", encoding='utf-8-sig')\n",
    "wrongs_talbe = test_table.loc[test_table['prediction'] != test_table['recommend']]\n",
    "wrongs_talbe"
   ]
  },
  {
   "source": [
    "## Five comments that weren't labled correctly"
   ],
   "cell_type": "markdown",
   "metadata": {}
  },
  {
   "cell_type": "code",
   "execution_count": 17,
   "metadata": {},
   "outputs": [
    {
     "output_type": "stream",
     "name": "stdout",
     "text": [
      "['من', 'خود', 'جزو', 'افراد', 'بود#باش', 'که', 'نزدیک', 'سیزده', 'ساله', 'از', 'انواع', 'فیل', 'سرک', 'اع', 'از', 'روغن', '،', 'هوا', 'و', 'اتاق', 'استفاده', 'میکرد', 'ول', 'به', 'تازگ', 'متوجه', 'و', 'اطلاع', 'یاف', 'که', 'فیل', 'گاج', 'باکیف', '', 'از', 'فیل', 'سرک', 'بود#باش', 'و', 'ه', 'چنین', 'قیم', 'بمراتب', 'مناسب', 'ترب', 'نسب', 'به', 'سرک', 'داشت#دار', 'و', 'طرف', 'فروشنده', 'که', 'دا', 'روغن', 'فیل', 'را', 'به', 'من', 'می\\u200cفروخ', '.', 'واقعا', 'به', 'اثب', 'کرد#کن', 'که', 'گاج', 'باکیف', '', 'از', 'سرک', 'بود#باش', '.', 'بررس', 'فیل', 'سرک']\n"
     ]
    },
    {
     "output_type": "execute_result",
     "data": {
      "text/plain": [
       "comment                          [من, خود, جزو, افراد, بود#باش, که, نزدیک, سیزد...\n",
       "recommend                                                          not_recommended\n",
       "prediction                                                             recommended\n",
       "no preprocessing                                                       recommended\n",
       "no smoothing                                                           recommended\n",
       "no preprocessing or smoothing                                          recommended\n",
       "Name: 69, dtype: object"
      ]
     },
     "metadata": {},
     "execution_count": 17
    }
   ],
   "source": [
    "print(wrongs_talbe.iloc[2]['comment'])\n",
    "wrongs_talbe.iloc[2]"
   ]
  },
  {
   "cell_type": "code",
   "execution_count": 18,
   "metadata": {},
   "outputs": [
    {
     "output_type": "stream",
     "name": "stdout",
     "text": [
      "['سلا', 'دوس', 'بعد', 'از', 'استفاده', 'چراغ', 'چک', 'تویوتا', 'کمر', '۲۰۰۷', 'خامو', 'شد#شو', 'چراغ', 'چک', 'موتور', 'خامو', 'شد#شو']\n"
     ]
    },
    {
     "output_type": "execute_result",
     "data": {
      "text/plain": [
       "comment                          [سلا, دوس, بعد, از, استفاده, چراغ, چک, تویوتا,...\n",
       "recommend                                                              recommended\n",
       "prediction                                                         not_recommended\n",
       "no preprocessing                                                   not_recommended\n",
       "no smoothing                                                       not_recommended\n",
       "no preprocessing or smoothing                                      not_recommended\n",
       "Name: 83, dtype: object"
      ]
     },
     "metadata": {},
     "execution_count": 18
    }
   ],
   "source": [
    "print(wrongs_talbe.iloc[3]['comment'])\n",
    "wrongs_talbe.iloc[3]"
   ]
  },
  {
   "cell_type": "code",
   "execution_count": 20,
   "metadata": {},
   "outputs": [
    {
     "output_type": "stream",
     "name": "stdout",
     "text": [
      "['برد', 'بالا', 'نداره', 'کیف', 'صدا', 'معمولیه', 'برا', 'تا', 'تمرین', 'و', 'ورز', 'مناسبه', 'از', 'رو', 'گو', 'نمیفته', 'ظریف', 'نیس', 'م', 'نمونه', '', 'ه', 'رده', 'خود', 'خیل', 'خوب', 'نیس', 'پیشنهاد', 'نمیکن']\n"
     ]
    },
    {
     "output_type": "execute_result",
     "data": {
      "text/plain": [
       "comment                          [برد, بالا, نداره, کیف, صدا, معمولیه, برا, تا,...\n",
       "recommend                                                          not_recommended\n",
       "prediction                                                             recommended\n",
       "no preprocessing                                                       recommended\n",
       "no smoothing                                                           recommended\n",
       "no preprocessing or smoothing                                          recommended\n",
       "Name: 119, dtype: object"
      ]
     },
     "metadata": {},
     "execution_count": 20
    }
   ],
   "source": [
    "print(wrongs_talbe.iloc[5]['comment'])\n",
    "wrongs_talbe.iloc[5]"
   ]
  },
  {
   "cell_type": "code",
   "execution_count": 21,
   "metadata": {},
   "outputs": [
    {
     "output_type": "stream",
     "name": "stdout",
     "text": [
      "['روتخت', 'نسب', 'به', 'بقیه', 'روتختیا', 'کوچیکتره', 'جور', 'که', 'از', 'تخ', 'آویز', 'نمیشه', 'لب', 'به', 'لب', 'تخ', 'اندازس', 'ایکا', 'اون', 'عکس', 'که', 'میزارن', 'با', 'اون', 'که', 'میفرستن', 'یک', 'بود#باش', 'روک', 'بالشتا', 'اصلا', 'شبیه', 'عکس', 'بود#باش', 'صورت', 'ساده', 'بود#باش']\n"
     ]
    },
    {
     "output_type": "execute_result",
     "data": {
      "text/plain": [
       "comment                          [روتخت, نسب, به, بقیه, روتختیا, کوچیکتره, جور,...\n",
       "recommend                                                              recommended\n",
       "prediction                                                         not_recommended\n",
       "no preprocessing                                                   not_recommended\n",
       "no smoothing                                                       not_recommended\n",
       "no preprocessing or smoothing                                      not_recommended\n",
       "Name: 138, dtype: object"
      ]
     },
     "metadata": {},
     "execution_count": 21
    }
   ],
   "source": [
    "print(wrongs_talbe.iloc[6]['comment'])\n",
    "wrongs_talbe.iloc[6]"
   ]
  },
  {
   "cell_type": "code",
   "execution_count": 26,
   "metadata": {},
   "outputs": [
    {
     "output_type": "stream",
     "name": "stdout",
     "text": [
      "['قیم', 'بالا', 'نسب', 'به', 'موارد', 'دیگه', 'با', 'این', 'خصوص', '.', 'ب', 'کیف']\n"
     ]
    },
    {
     "output_type": "execute_result",
     "data": {
      "text/plain": [
       "comment                          [قیم, بالا, نسب, به, موارد, دیگه, با, این, خصو...\n",
       "recommend                                                          not_recommended\n",
       "prediction                                                             recommended\n",
       "no preprocessing                                                       recommended\n",
       "no smoothing                                                           recommended\n",
       "no preprocessing or smoothing                                          recommended\n",
       "Name: 185, dtype: object"
      ]
     },
     "metadata": {},
     "execution_count": 26
    }
   ],
   "source": [
    "print(wrongs_talbe.iloc[11]['comment'])\n",
    "wrongs_talbe.iloc[11]"
   ]
  },
  {
   "source": [
    "This method is not perfect considering each word without paying attention to the context can lead to wrong interpretation of comment for example the words خوب or بد by themselves has posetive or negetive meanings but comment like خوب نیست is a negeive comment or بد نیست is a posetive comment. \n",
    "Also some kind of preprocessing makes words loose their true meaning for example verbs lose thier negetive meaning when converted to base form. So preprocessing doesn't always better the performance. \n",
    "\n",
    "The solution might be in considering the role of each word in a sentence and apply the preprocessing based the role of that word or consider each adjective with its verb to see the true meaning of the sentence."
   ],
   "cell_type": "markdown",
   "metadata": {}
  }
 ]
}